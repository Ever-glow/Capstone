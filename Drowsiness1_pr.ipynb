{
 "cells": [
  {
   "cell_type": "code",
   "execution_count": 1,
   "id": "575d91a5-abd4-4998-9be6-8b15a5bf241a",
   "metadata": {},
   "outputs": [],
   "source": [
    "import dlib"
   ]
  },
  {
   "cell_type": "code",
   "execution_count": 2,
   "id": "505f8015-135c-4913-af55-2d3b5d7c5ceb",
   "metadata": {},
   "outputs": [
    {
     "name": "stdout",
     "output_type": "stream",
     "text": [
      "19.24.1\n"
     ]
    }
   ],
   "source": [
    "print(dlib.__version__) "
   ]
  },
  {
   "cell_type": "code",
   "execution_count": 3,
   "id": "13e39f6a-2db6-4a0d-ac24-1828d07f8435",
   "metadata": {},
   "outputs": [
    {
     "name": "stdout",
     "output_type": "stream",
     "text": [
      "4.9.0\n"
     ]
    }
   ],
   "source": [
    "import cv2 as cv\n",
    "print(cv.__version__)"
   ]
  },
  {
   "cell_type": "code",
   "execution_count": 14,
   "id": "20f600b6-d9e8-4f3e-9c10-ba963bb19b36",
   "metadata": {},
   "outputs": [],
   "source": [
    "import numpy as np\n",
    "import dlib\n",
    "import cv2\n",
    "import time\n",
    "import winsound\n",
    "\n",
    "RIGHT_EYE = list(range(36, 42))\n",
    "LEFT_EYE = list(range(42, 48))\n",
    "EYES = list(range(36, 48))\n",
    "\n",
    "frame_width = 640\n",
    "frame_height = 480\n",
    "\n",
    "title_name = 'Drowsiness Detection'\n",
    "\n",
    "face_cascade_name = \"C:\\prt\\haarcascade_frontalface_default.xml\" #환경에 맞게 변경할 것\n",
    "face_cascade = cv2.CascadeClassifier()\n",
    "if not face_cascade.load(cv2.samples.findFile(face_cascade_name)):\n",
    "    print('--(!)Error loading face cascade')\n",
    "    exit(0)\n",
    "\n",
    "predictor_file = \"C:\\prt\\shape_predictor_68_face_landmarks.dat\\shape_predictor_68_face_landmarks.dat\" #환경에 맞게 변경할 것\n",
    "predictor = dlib.shape_predictor(predictor_file)\n",
    "\n",
    "status = 'Awake'\n",
    "number_closed = 0\n",
    "min_EAR = 0.25\n",
    "closed_limit = 10 #-- 눈 감김이 10번 이상일 경우 졸음으로 간주\n",
    "show_frame = None\n",
    "sign = None\n",
    "color = None\n",
    "\n",
    "def getEAR(points):\n",
    "    A = np.linalg.norm(points[1] - points[5])\n",
    "    B = np.linalg.norm(points[2] - points[4])\n",
    "    C = np.linalg.norm(points[0] - points[3])\n",
    "    return (A + B) / (2.0 * C)\n",
    "    \n",
    "def detectAndDisplay(image):\n",
    "    global number_closed\n",
    "    global color\n",
    "    global show_frame\n",
    "    global sign\n",
    "\n",
    "    image = cv2.resize(image, (frame_width, frame_height))\n",
    "    show_frame = image\n",
    "    frame_gray = cv2.cvtColor(image, cv2.COLOR_BGR2GRAY)\n",
    "    frame_gray = cv2.equalizeHist(frame_gray)\n",
    "    faces = face_cascade.detectMultiScale(frame_gray)\n",
    "    \n",
    "    for (x,y,w,h) in faces:\n",
    "        cv2.rectangle(image, (x, y), (x+w, y+h), (0, 255, 0), 2)\n",
    "        \n",
    "        rect = dlib.rectangle(int(x), int(y), int(x + w),\n",
    "\t\t\tint(y + h))\n",
    "        points = np.matrix([[p.x, p.y] for p in predictor(image, rect).parts()])\n",
    "        show_parts = points[EYES]\n",
    "        right_eye_EAR = getEAR(points[RIGHT_EYE])\n",
    "        left_eye_EAR = getEAR(points[LEFT_EYE])\n",
    "        mean_eye_EAR = (right_eye_EAR + left_eye_EAR) / 2 \n",
    "\n",
    "        right_eye_center = np.mean(points[RIGHT_EYE], axis = 0).astype(\"int\")\n",
    "        left_eye_center = np.mean(points[LEFT_EYE], axis = 0).astype(\"int\")\n",
    "\n",
    "        cv2.putText(image, \"{:.2f}\".format(right_eye_EAR), (right_eye_center[0,0], right_eye_center[0,1] + 20),\n",
    "            cv2.FONT_HERSHEY_SIMPLEX, 0.5, (0, 255, 0), 1)\n",
    "        cv2.putText(image, \"{:.2f}\".format(left_eye_EAR), (left_eye_center[0,0], left_eye_center[0,1] + 20),\n",
    "            cv2.FONT_HERSHEY_SIMPLEX, 0.5, (0, 255, 0), 1)\n",
    "        \n",
    "        for (i, point) in enumerate(show_parts):\n",
    "            x = point[0,0]\n",
    "            y = point[0,1]\n",
    "            cv2.circle(image, (x, y), 1, (0, 255, 255), -1)\n",
    "            \n",
    "        if mean_eye_EAR > min_EAR:\n",
    "            color = (0, 255, 0)\n",
    "            status = 'Awake'\n",
    "            number_closed = number_closed - 1\n",
    "            if( number_closed<0 ):\n",
    "                number_closed = 0\n",
    "        else:\n",
    "            color = (0, 0, 255)\n",
    "            status = 'sleep'\n",
    "            number_closed = number_closed + 1\n",
    "                     \n",
    "        sign = 'sleep count : ' + str(number_closed) + ' / ' + str(closed_limit)\n",
    "\n",
    "        # 졸음 확정시 알람 설정\n",
    "        if( number_closed > closed_limit ):\n",
    "            show_frame = frame_gray\n",
    "            #winsound.PlaySound(\"./alarm.wav\", winsound.SND_FILENAME) #-- 본인 환경에 맞게 변경할 것\n",
    "        \n",
    "    #cv2.putText(show_frame, status , (x-w,y-h), cv2.FONT_HERSHEY_DUPLEX, 2, color, 2)\n",
    "    cv2.putText(show_frame, sign , (10,frame_height-20), cv2.FONT_HERSHEY_SIMPLEX, 0.6, color, 2)\n",
    "    cv2.imshow(title_name, show_frame)\n",
    "    \n",
    "cap = cv2.VideoCapture(0)\n",
    "time.sleep(2.0)\n",
    "if not cap.isOpened:\n",
    "    print('Could not open video')\n",
    "    exit(0)\n",
    "\n",
    "while True:\n",
    "    ret, frame = cap.read()\n",
    "\n",
    "    if frame is None:\n",
    "        print('Could not read frame')\n",
    "        cap.release()\n",
    "        break\n",
    "\n",
    "    detectAndDisplay(frame)\n",
    "    \n",
    "    # q 입력시 종료\n",
    "    if cv2.waitKey(1) & 0xFF == ord('q'):\n",
    "        break\n",
    "\n",
    "cap.release()\n",
    "cv2.destroyAllWindows()"
   ]
  },
  {
   "cell_type": "code",
   "execution_count": null,
   "id": "78ba847d-7a8b-4b0a-887e-0b8f014d5285",
   "metadata": {},
   "outputs": [],
   "source": []
  }
 ],
 "metadata": {
  "kernelspec": {
   "display_name": "Python 3 (ipykernel)",
   "language": "python",
   "name": "python3"
  },
  "language_info": {
   "codemirror_mode": {
    "name": "ipython",
    "version": 3
   },
   "file_extension": ".py",
   "mimetype": "text/x-python",
   "name": "python",
   "nbconvert_exporter": "python",
   "pygments_lexer": "ipython3",
   "version": "3.11.9"
  }
 },
 "nbformat": 4,
 "nbformat_minor": 5
}
